{
 "cells": [
  {
   "cell_type": "code",
   "execution_count": null,
   "metadata": {},
   "outputs": [],
   "source": [
    "import xarray as xr\n",
    "from xrviz.dashboard import Dashboard\n",
    "from xrviz import sample_data"
   ]
  },
  {
   "cell_type": "code",
   "execution_count": null,
   "metadata": {},
   "outputs": [],
   "source": [
    "# xrviz sample data\n",
    "\n",
    "data = sample_data.great_lakes\n",
    "initial_params = {'Variables': 'temp',  # Select Variable\n",
    "                  'Set Coords': ['lat', 'lon'],  # Set Coords\n",
    "                  # Fields\n",
    "                  'x': 'lon',\n",
    "                  'y': 'lat',\n",
    "                  'sigma': 'animate',\n",
    "\n",
    "                  # style\n",
    "                  'height': 300,\n",
    "                  'width': 650,\n",
    "                  'colorbar': True,\n",
    "                  'cmap': 'Viridis',\n",
    "\n",
    "                  # projection\n",
    "                  'is_geo': True,\n",
    "                  'basemap': 'OSM',\n",
    "                  'crs': 'PlateCarree',\n",
    "                  'projection': 'Orthographic',\n",
    "                  'crs params': \"{'central_longitude': 0.0}\",\n",
    "                  'projection params': \"{'central_longitude': -78, 'central_latitude': 43, 'globe': None}\"\n",
    "                  }\n",
    "dash = Dashboard(data, initial_params=initial_params)\n",
    "#dash.show()"
   ]
  },
  {
   "cell_type": "code",
   "execution_count": null,
   "metadata": {},
   "outputs": [],
   "source": [
    "dash.panel.servable()"
   ]
  }
 ],
 "metadata": {
  "kernelspec": {
   "display_name": "Python [conda env:xrviz] *",
   "language": "python",
   "name": "conda-env-xrviz-py"
  },
  "language_info": {
   "codemirror_mode": {
    "name": "ipython",
    "version": 3
   },
   "file_extension": ".py",
   "mimetype": "text/x-python",
   "name": "python",
   "nbconvert_exporter": "python",
   "pygments_lexer": "ipython3",
   "version": "3.7.3"
  }
 },
 "nbformat": 4,
 "nbformat_minor": 4
}
